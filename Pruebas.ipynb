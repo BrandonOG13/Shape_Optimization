{
 "cells": [
  {
   "cell_type": "code",
   "execution_count": 1,
   "id": "9e708368",
   "metadata": {},
   "outputs": [
    {
     "name": "stderr",
     "output_type": "stream",
     "text": [
      "WARNING:root:Adjoint value is None, is the functional independent of the control variable?\n"
     ]
    },
    {
     "name": "stdout",
     "output_type": "stream",
     "text": [
      "Derivative norm: 0.0\n"
     ]
    }
   ],
   "source": [
    "from firedrake import *\n",
    "from pyadjoint import *\n",
    "import numpy as np\n",
    "\n",
    "\n",
    "\n",
    "# 1. Configuración inicial\n",
    "mesh = UnitSquareMesh(10, 10)\n",
    "coords = mesh.coordinates.copy()\n",
    "\n",
    "# 2. Espacio para el control (deformación)\n",
    "V_control = VectorFunctionSpace(mesh, \"CG\", 1)\n",
    "control = Function(V_control, name=\"Control\")\n",
    "m = Control(control)\n",
    "\n",
    "# 3. Mecanismo de deformación CORREGIDO\n",
    "def deformed_coordinates():\n",
    "    \"\"\"Crea dependencia explícita en el grafo computacional\"\"\"\n",
    "    return coords + control\n",
    "\n",
    "# 4. Problema directo con dependencia explícita\n",
    "def forward(control):\n",
    "    # Asegurar que estamos grabando operaciones\n",
    "    with stop_annotating():\n",
    "        mesh.coordinates.assign(deformed_coordinates())\n",
    "    \n",
    "    V_u = VectorFunctionSpace(mesh, \"CG\", 1)\n",
    "    u = Function(V_u, name=\"State\")\n",
    "    \n",
    "    # Elasticidad lineal\n",
    "    E = Constant(1e5)\n",
    "    nu = Constant(0.3)\n",
    "    mu = E/(2*(1+nu))\n",
    "    lmbda = E*nu/((1+nu)*(1-2*nu))\n",
    "    \n",
    "    def sigma(u):\n",
    "        return 2*mu*sym(grad(u)) + lmbda*tr(sym(grad(u)))*Identity(2)\n",
    "    \n",
    "    v = TestFunction(V_u)\n",
    "    f = Constant((0, -0.01))\n",
    "    F = inner(sigma(u), grad(v)) * dx - inner(f, v) * dx\n",
    "    \n",
    "    bc = DirichletBC(V_u, Constant((0, 0)), (1, 2))\n",
    "    \n",
    "    solve(F == 0, u, bcs=bc, \n",
    "          solver_parameters={\n",
    "              \"snes_type\": \"newtonls\",\n",
    "              \"snes_max_it\": 100,\n",
    "              \"ksp_type\": \"preonly\",\n",
    "              \"pc_type\": \"lu\"\n",
    "          })\n",
    "    \n",
    "    return u\n",
    "\n",
    "# 5. Ejecutar el problema directo con anotación\n",
    "u = forward(control)\n",
    "\n",
    "# 6. Funcional con dependencia explícita\n",
    "J = assemble(inner(grad(u), grad(u)) * dx)\n",
    "Jhat = ReducedFunctional(AdjFloat(J), m)\n",
    "\n",
    "# 7. Verificación con perturbación\n",
    "perturbation = Function(V_control)\n",
    "perturbation.dat.data[:] = 0.001 * np.random.rand(*perturbation.dat.data.shape)\n",
    "# print(\"Verificación por perturbación:\")\n",
    "# print(f\"J(m) = {Jhat(m)}\")\n",
    "# print(f\"J(m + ε) = {Jhat(m + perturbation)}\")\n",
    "# print(f\"Norma de la derivada: {norm(Jhat.derivative())}\")\n",
    "\n",
    "# Prueba de derivada\n",
    "print(\"Derivative norm:\", norm(Jhat.derivative()))"
   ]
  },
  {
   "cell_type": "code",
   "execution_count": 4,
   "id": "ad026f60",
   "metadata": {},
   "outputs": [
    {
     "ename": "AttributeError",
     "evalue": "'str' object has no attribute '_tf_add_blocks'",
     "output_type": "error",
     "traceback": [
      "\u001b[31m---------------------------------------------------------------------------\u001b[39m",
      "\u001b[31mAttributeError\u001b[39m                            Traceback (most recent call last)",
      "\u001b[36mCell\u001b[39m\u001b[36m \u001b[39m\u001b[32mIn[4]\u001b[39m\u001b[32m, line 1\u001b[39m\n\u001b[32m----> \u001b[39m\u001b[32m1\u001b[39m \u001b[43mTape\u001b[49m\u001b[43m.\u001b[49m\u001b[43mvisualise\u001b[49m\u001b[43m(\u001b[49m\u001b[33;43m\"\u001b[39;49m\u001b[33;43m/home/brandon/Shape_Optimization/archivo_3.png\u001b[39;49m\u001b[33;43m\"\u001b[39;49m\u001b[43m)\u001b[49m\n",
      "\u001b[36mFile \u001b[39m\u001b[32m~/myenv/lib/python3.12/site-packages/pyadjoint/tape.py:656\u001b[39m, in \u001b[36mTape.visualise\u001b[39m\u001b[34m(self, output, launch_tensorboard, open_in_browser)\u001b[39m\n\u001b[32m    654\u001b[39m \u001b[38;5;28;01mimport\u001b[39;00m\u001b[38;5;250m \u001b[39m\u001b[34;01mtensorflow\u001b[39;00m\u001b[38;5;250m \u001b[39m\u001b[38;5;28;01mas\u001b[39;00m\u001b[38;5;250m \u001b[39m\u001b[34;01mtf\u001b[39;00m\n\u001b[32m    655\u001b[39m tf.compat.v1.reset_default_graph()\n\u001b[32m--> \u001b[39m\u001b[32m656\u001b[39m \u001b[38;5;28;43mself\u001b[39;49m\u001b[43m.\u001b[49m\u001b[43m_tf_add_blocks\u001b[49m()\n\u001b[32m    658\u001b[39m \u001b[38;5;66;03m# Write graph to file\u001b[39;00m\n\u001b[32m    659\u001b[39m \u001b[38;5;28;01mwith\u001b[39;00m tf.compat.v1.Session() \u001b[38;5;28;01mas\u001b[39;00m sess:\n",
      "\u001b[31mAttributeError\u001b[39m: 'str' object has no attribute '_tf_add_blocks'"
     ]
    }
   ],
   "source": [
    "Tape.visualise(\"/home/brandon/Shape_Optimization/archivo_3.png\")"
   ]
  }
 ],
 "metadata": {
  "kernelspec": {
   "display_name": "MyEnv",
   "language": "python",
   "name": "myenv"
  },
  "language_info": {
   "codemirror_mode": {
    "name": "ipython",
    "version": 3
   },
   "file_extension": ".py",
   "mimetype": "text/x-python",
   "name": "python",
   "nbconvert_exporter": "python",
   "pygments_lexer": "ipython3",
   "version": "3.12.3"
  }
 },
 "nbformat": 4,
 "nbformat_minor": 5
}
